{
 "cells": [
  {
   "cell_type": "markdown",
   "id": "f30c805f",
   "metadata": {},
   "source": [
    "# Statistical analysis and Supervised Machine Learning \n",
    "\n",
    "In this section we will be investigating the following research questions:\n",
    "- Has the number of risk to water supply in the US changed since 2017? \n",
    "- What factors are associated with greater risk to water supply in the US?\n",
    "- Can we predict the number of risk to water supply? \n",
    "\n",
    "## Load packages and data"
   ]
  },
  {
   "cell_type": "code",
   "execution_count": 1,
   "id": "cb7dc830",
   "metadata": {},
   "outputs": [],
   "source": [
    "import pandas as pd\n",
    "import numpy as np\n",
    "\n",
    "#for plots \n",
    "import matplotlib.pyplot as plt\n",
    "\n",
    "#for the poisson regression and anova \n",
    "from patsy import dmatrices\n",
    "import statsmodels.api as sm\n",
    "import statsmodels.formula.api as smf \n",
    "from statsmodels.formula.api import ols \n",
    "#for splitting into train vs. test data \n",
    "from sklearn.model_selection import train_test_split\n",
    "\n",
    "#for summary statistics \n",
    "import researchpy as rp"
   ]
  },
  {
   "cell_type": "code",
   "execution_count": 2,
   "id": "d2376088",
   "metadata": {},
   "outputs": [
    {
     "data": {
      "text/html": [
       "<div>\n",
       "<style scoped>\n",
       "    .dataframe tbody tr th:only-of-type {\n",
       "        vertical-align: middle;\n",
       "    }\n",
       "\n",
       "    .dataframe tbody tr th {\n",
       "        vertical-align: top;\n",
       "    }\n",
       "\n",
       "    .dataframe thead th {\n",
       "        text-align: right;\n",
       "    }\n",
       "</style>\n",
       "<table border=\"1\" class=\"dataframe\">\n",
       "  <thead>\n",
       "    <tr style=\"text-align: right;\">\n",
       "      <th></th>\n",
       "      <th>Unnamed: 0</th>\n",
       "      <th>Year</th>\n",
       "      <th>State</th>\n",
       "      <th>Freq</th>\n",
       "      <th>Pop</th>\n",
       "      <th>Precip</th>\n",
       "      <th>Temp</th>\n",
       "    </tr>\n",
       "  </thead>\n",
       "  <tbody>\n",
       "    <tr>\n",
       "      <th>0</th>\n",
       "      <td>0</td>\n",
       "      <td>2021</td>\n",
       "      <td>AL</td>\n",
       "      <td>1</td>\n",
       "      <td>5039877.0</td>\n",
       "      <td>42.51</td>\n",
       "      <td>63.0</td>\n",
       "    </tr>\n",
       "    <tr>\n",
       "      <th>1</th>\n",
       "      <td>95</td>\n",
       "      <td>2021</td>\n",
       "      <td>CO</td>\n",
       "      <td>2</td>\n",
       "      <td>5812069.0</td>\n",
       "      <td>11.26</td>\n",
       "      <td>45.5</td>\n",
       "    </tr>\n",
       "    <tr>\n",
       "      <th>2</th>\n",
       "      <td>93</td>\n",
       "      <td>2021</td>\n",
       "      <td>AZ</td>\n",
       "      <td>1</td>\n",
       "      <td>7276316.0</td>\n",
       "      <td>6.53</td>\n",
       "      <td>61.4</td>\n",
       "    </tr>\n",
       "    <tr>\n",
       "      <th>3</th>\n",
       "      <td>77</td>\n",
       "      <td>2021</td>\n",
       "      <td>NV</td>\n",
       "      <td>1</td>\n",
       "      <td>3143991.0</td>\n",
       "      <td>4.78</td>\n",
       "      <td>52.2</td>\n",
       "    </tr>\n",
       "    <tr>\n",
       "      <th>4</th>\n",
       "      <td>76</td>\n",
       "      <td>2021</td>\n",
       "      <td>NM</td>\n",
       "      <td>1</td>\n",
       "      <td>2115877.0</td>\n",
       "      <td>7.56</td>\n",
       "      <td>54.2</td>\n",
       "    </tr>\n",
       "    <tr>\n",
       "      <th>...</th>\n",
       "      <td>...</td>\n",
       "      <td>...</td>\n",
       "      <td>...</td>\n",
       "      <td>...</td>\n",
       "      <td>...</td>\n",
       "      <td>...</td>\n",
       "      <td>...</td>\n",
       "    </tr>\n",
       "    <tr>\n",
       "      <th>113</th>\n",
       "      <td>83</td>\n",
       "      <td>2017</td>\n",
       "      <td>OH</td>\n",
       "      <td>1</td>\n",
       "      <td>11659650.0</td>\n",
       "      <td>30.85</td>\n",
       "      <td>53.5</td>\n",
       "    </tr>\n",
       "    <tr>\n",
       "      <th>114</th>\n",
       "      <td>84</td>\n",
       "      <td>2017</td>\n",
       "      <td>PA</td>\n",
       "      <td>2</td>\n",
       "      <td>12787641.0</td>\n",
       "      <td>31.03</td>\n",
       "      <td>50.4</td>\n",
       "    </tr>\n",
       "    <tr>\n",
       "      <th>115</th>\n",
       "      <td>85</td>\n",
       "      <td>2017</td>\n",
       "      <td>TN</td>\n",
       "      <td>1</td>\n",
       "      <td>6708799.0</td>\n",
       "      <td>34.68</td>\n",
       "      <td>60.8</td>\n",
       "    </tr>\n",
       "    <tr>\n",
       "      <th>116</th>\n",
       "      <td>86</td>\n",
       "      <td>2017</td>\n",
       "      <td>TX</td>\n",
       "      <td>1</td>\n",
       "      <td>28295273.0</td>\n",
       "      <td>16.73</td>\n",
       "      <td>68.0</td>\n",
       "    </tr>\n",
       "    <tr>\n",
       "      <th>117</th>\n",
       "      <td>117</td>\n",
       "      <td>2017</td>\n",
       "      <td>TN</td>\n",
       "      <td>1</td>\n",
       "      <td>6708799.0</td>\n",
       "      <td>34.68</td>\n",
       "      <td>60.8</td>\n",
       "    </tr>\n",
       "  </tbody>\n",
       "</table>\n",
       "<p>118 rows × 7 columns</p>\n",
       "</div>"
      ],
      "text/plain": [
       "     Unnamed: 0  Year State  Freq         Pop  Precip  Temp\n",
       "0             0  2021    AL     1   5039877.0   42.51  63.0\n",
       "1            95  2021    CO     2   5812069.0   11.26  45.5\n",
       "2            93  2021    AZ     1   7276316.0    6.53  61.4\n",
       "3            77  2021    NV     1   3143991.0    4.78  52.2\n",
       "4            76  2021    NM     1   2115877.0    7.56  54.2\n",
       "..          ...   ...   ...   ...         ...     ...   ...\n",
       "113          83  2017    OH     1  11659650.0   30.85  53.5\n",
       "114          84  2017    PA     2  12787641.0   31.03  50.4\n",
       "115          85  2017    TN     1   6708799.0   34.68  60.8\n",
       "116          86  2017    TX     1  28295273.0   16.73  68.0\n",
       "117         117  2017    TN     1   6708799.0   34.68  60.8\n",
       "\n",
       "[118 rows x 7 columns]"
      ]
     },
     "execution_count": 2,
     "metadata": {},
     "output_type": "execute_result"
    }
   ],
   "source": [
    "#load the us data that was merged to include the information on average population, average precipiation and temperature \n",
    "us = pd.read_csv('usmerged.csv')\n",
    "us"
   ]
  },
  {
   "cell_type": "code",
   "execution_count": 3,
   "id": "30c15ecd",
   "metadata": {},
   "outputs": [
    {
     "data": {
      "text/html": [
       "<div>\n",
       "<style scoped>\n",
       "    .dataframe tbody tr th:only-of-type {\n",
       "        vertical-align: middle;\n",
       "    }\n",
       "\n",
       "    .dataframe tbody tr th {\n",
       "        vertical-align: top;\n",
       "    }\n",
       "\n",
       "    .dataframe thead th {\n",
       "        text-align: right;\n",
       "    }\n",
       "</style>\n",
       "<table border=\"1\" class=\"dataframe\">\n",
       "  <thead>\n",
       "    <tr style=\"text-align: right;\">\n",
       "      <th></th>\n",
       "      <th>Year</th>\n",
       "      <th>State</th>\n",
       "      <th>Freq</th>\n",
       "      <th>Pop</th>\n",
       "      <th>Precip</th>\n",
       "      <th>Temp</th>\n",
       "    </tr>\n",
       "  </thead>\n",
       "  <tbody>\n",
       "    <tr>\n",
       "      <th>0</th>\n",
       "      <td>2021</td>\n",
       "      <td>AL</td>\n",
       "      <td>1</td>\n",
       "      <td>5039877.0</td>\n",
       "      <td>42.51</td>\n",
       "      <td>63.0</td>\n",
       "    </tr>\n",
       "    <tr>\n",
       "      <th>1</th>\n",
       "      <td>2021</td>\n",
       "      <td>CO</td>\n",
       "      <td>2</td>\n",
       "      <td>5812069.0</td>\n",
       "      <td>11.26</td>\n",
       "      <td>45.5</td>\n",
       "    </tr>\n",
       "    <tr>\n",
       "      <th>2</th>\n",
       "      <td>2021</td>\n",
       "      <td>AZ</td>\n",
       "      <td>1</td>\n",
       "      <td>7276316.0</td>\n",
       "      <td>6.53</td>\n",
       "      <td>61.4</td>\n",
       "    </tr>\n",
       "    <tr>\n",
       "      <th>3</th>\n",
       "      <td>2021</td>\n",
       "      <td>NV</td>\n",
       "      <td>1</td>\n",
       "      <td>3143991.0</td>\n",
       "      <td>4.78</td>\n",
       "      <td>52.2</td>\n",
       "    </tr>\n",
       "    <tr>\n",
       "      <th>4</th>\n",
       "      <td>2021</td>\n",
       "      <td>NM</td>\n",
       "      <td>1</td>\n",
       "      <td>2115877.0</td>\n",
       "      <td>7.56</td>\n",
       "      <td>54.2</td>\n",
       "    </tr>\n",
       "  </tbody>\n",
       "</table>\n",
       "</div>"
      ],
      "text/plain": [
       "   Year State  Freq        Pop  Precip  Temp\n",
       "0  2021    AL     1  5039877.0   42.51  63.0\n",
       "1  2021    CO     2  5812069.0   11.26  45.5\n",
       "2  2021    AZ     1  7276316.0    6.53  61.4\n",
       "3  2021    NV     1  3143991.0    4.78  52.2\n",
       "4  2021    NM     1  2115877.0    7.56  54.2"
      ]
     },
     "execution_count": 3,
     "metadata": {},
     "output_type": "execute_result"
    }
   ],
   "source": [
    "#drop the unnamed column and state name \n",
    "us.drop(['Unnamed: 0'],axis=1, inplace= True)\n",
    "us.head(5)"
   ]
  },
  {
   "cell_type": "code",
   "execution_count": 4,
   "id": "d0833f08",
   "metadata": {},
   "outputs": [
    {
     "name": "stdout",
     "output_type": "stream",
     "text": [
      "<class 'pandas.core.frame.DataFrame'>\n",
      "RangeIndex: 118 entries, 0 to 117\n",
      "Data columns (total 6 columns):\n",
      " #   Column  Non-Null Count  Dtype  \n",
      "---  ------  --------------  -----  \n",
      " 0   Year    118 non-null    int64  \n",
      " 1   State   118 non-null    object \n",
      " 2   Freq    118 non-null    int64  \n",
      " 3   Pop     118 non-null    float64\n",
      " 4   Precip  118 non-null    float64\n",
      " 5   Temp    118 non-null    float64\n",
      "dtypes: float64(3), int64(2), object(1)\n",
      "memory usage: 5.7+ KB\n",
      "<class 'pandas.core.frame.DataFrame'>\n",
      "RangeIndex: 118 entries, 0 to 117\n",
      "Data columns (total 6 columns):\n",
      " #   Column  Non-Null Count  Dtype  \n",
      "---  ------  --------------  -----  \n",
      " 0   Year    118 non-null    object \n",
      " 1   State   118 non-null    object \n",
      " 2   Freq    118 non-null    int64  \n",
      " 3   Pop     118 non-null    float64\n",
      " 4   Precip  118 non-null    float64\n",
      " 5   Temp    118 non-null    float64\n",
      "dtypes: float64(3), int64(1), object(2)\n",
      "memory usage: 5.7+ KB\n"
     ]
    }
   ],
   "source": [
    "#check the type of each column \n",
    "us.info()\n",
    "\n",
    "#change the type of Year to object \n",
    "us['Year'] = us['Year'].astype('object')\n",
    "us.info()"
   ]
  },
  {
   "cell_type": "markdown",
   "id": "312b4175",
   "metadata": {},
   "source": [
    "## Has the number of risk to water supply in the US changed since 2017? \n",
    "\n",
    "For this research question, we are essentially asking ourselves whether there is a difference between the number of risk to water supply in the US between the years. We can test this by means of a 1-way between ANOVA. Our dependent variable is the number of risk factors and our independent variable is the years (3 levels: 2017, 2018 and 2021).\n",
    "\n",
    "The following table shows a descriptive statistics of the overall number of risk factor (*M* = 1.35, *SD* = 1.00, *N* = 118) as well as per year (2017: *M* = 1.50, *SD* = 1.33, *N* = 26; 2018: *M* = 1.35, *SD* = 1.13, *N* = 26; 2021: *M* = 1.27, *SD* = 0.75, *N* = 62)."
   ]
  },
  {
   "cell_type": "code",
   "execution_count": 5,
   "id": "6fb4028a",
   "metadata": {},
   "outputs": [
    {
     "name": "stdout",
     "output_type": "stream",
     "text": [
      "\n",
      "\n",
      "\n",
      "\n"
     ]
    },
    {
     "data": {
      "text/html": [
       "<div>\n",
       "<style scoped>\n",
       "    .dataframe tbody tr th:only-of-type {\n",
       "        vertical-align: middle;\n",
       "    }\n",
       "\n",
       "    .dataframe tbody tr th {\n",
       "        vertical-align: top;\n",
       "    }\n",
       "\n",
       "    .dataframe thead th {\n",
       "        text-align: right;\n",
       "    }\n",
       "</style>\n",
       "<table border=\"1\" class=\"dataframe\">\n",
       "  <thead>\n",
       "    <tr style=\"text-align: right;\">\n",
       "      <th></th>\n",
       "      <th>Variable</th>\n",
       "      <th>N</th>\n",
       "      <th>Mean</th>\n",
       "      <th>SD</th>\n",
       "      <th>SE</th>\n",
       "      <th>95% Conf.</th>\n",
       "      <th>Interval</th>\n",
       "    </tr>\n",
       "  </thead>\n",
       "  <tbody>\n",
       "    <tr>\n",
       "      <th>0</th>\n",
       "      <td>Freq</td>\n",
       "      <td>118.0</td>\n",
       "      <td>1.3475</td>\n",
       "      <td>1.0075</td>\n",
       "      <td>0.0927</td>\n",
       "      <td>1.1638</td>\n",
       "      <td>1.5311</td>\n",
       "    </tr>\n",
       "  </tbody>\n",
       "</table>\n",
       "</div>"
      ],
      "text/plain": [
       "  Variable      N    Mean      SD      SE  95% Conf.  Interval\n",
       "0     Freq  118.0  1.3475  1.0075  0.0927     1.1638    1.5311"
      ]
     },
     "metadata": {},
     "output_type": "display_data"
    },
    {
     "data": {
      "text/html": [
       "<div>\n",
       "<style scoped>\n",
       "    .dataframe tbody tr th:only-of-type {\n",
       "        vertical-align: middle;\n",
       "    }\n",
       "\n",
       "    .dataframe tbody tr th {\n",
       "        vertical-align: top;\n",
       "    }\n",
       "\n",
       "    .dataframe thead th {\n",
       "        text-align: right;\n",
       "    }\n",
       "</style>\n",
       "<table border=\"1\" class=\"dataframe\">\n",
       "  <thead>\n",
       "    <tr style=\"text-align: right;\">\n",
       "      <th></th>\n",
       "      <th>N</th>\n",
       "      <th>Mean</th>\n",
       "      <th>SD</th>\n",
       "      <th>SE</th>\n",
       "      <th>95% Conf.</th>\n",
       "      <th>Interval</th>\n",
       "    </tr>\n",
       "    <tr>\n",
       "      <th>Year</th>\n",
       "      <th></th>\n",
       "      <th></th>\n",
       "      <th></th>\n",
       "      <th></th>\n",
       "      <th></th>\n",
       "      <th></th>\n",
       "    </tr>\n",
       "  </thead>\n",
       "  <tbody>\n",
       "    <tr>\n",
       "      <th>2017</th>\n",
       "      <td>30</td>\n",
       "      <td>1.5000</td>\n",
       "      <td>1.3326</td>\n",
       "      <td>0.2433</td>\n",
       "      <td>1.0024</td>\n",
       "      <td>1.9976</td>\n",
       "    </tr>\n",
       "    <tr>\n",
       "      <th>2018</th>\n",
       "      <td>26</td>\n",
       "      <td>1.3462</td>\n",
       "      <td>1.1293</td>\n",
       "      <td>0.2215</td>\n",
       "      <td>0.8900</td>\n",
       "      <td>1.8023</td>\n",
       "    </tr>\n",
       "    <tr>\n",
       "      <th>2021</th>\n",
       "      <td>62</td>\n",
       "      <td>1.2742</td>\n",
       "      <td>0.7503</td>\n",
       "      <td>0.0953</td>\n",
       "      <td>1.0837</td>\n",
       "      <td>1.4647</td>\n",
       "    </tr>\n",
       "  </tbody>\n",
       "</table>\n",
       "</div>"
      ],
      "text/plain": [
       "       N    Mean      SD      SE  95% Conf.  Interval\n",
       "Year                                                 \n",
       "2017  30  1.5000  1.3326  0.2433     1.0024    1.9976\n",
       "2018  26  1.3462  1.1293  0.2215     0.8900    1.8023\n",
       "2021  62  1.2742  0.7503  0.0953     1.0837    1.4647"
      ]
     },
     "metadata": {},
     "output_type": "display_data"
    }
   ],
   "source": [
    "#descriptive stats for the DV \n",
    "display(rp.summary_cont(us['Freq']),\n",
    "        rp.summary_cont(us['Freq'].groupby(us['Year'])))"
   ]
  },
  {
   "cell_type": "markdown",
   "id": "4fbf5bed",
   "metadata": {},
   "source": [
    "Let's fit our 1-way anova to test our research question. "
   ]
  },
  {
   "cell_type": "code",
   "execution_count": 6,
   "id": "8b7c814f",
   "metadata": {},
   "outputs": [
    {
     "data": {
      "text/html": [
       "<div>\n",
       "<style scoped>\n",
       "    .dataframe tbody tr th:only-of-type {\n",
       "        vertical-align: middle;\n",
       "    }\n",
       "\n",
       "    .dataframe tbody tr th {\n",
       "        vertical-align: top;\n",
       "    }\n",
       "\n",
       "    .dataframe thead th {\n",
       "        text-align: right;\n",
       "    }\n",
       "</style>\n",
       "<table border=\"1\" class=\"dataframe\">\n",
       "  <thead>\n",
       "    <tr style=\"text-align: right;\">\n",
       "      <th></th>\n",
       "      <th>sum_sq</th>\n",
       "      <th>df</th>\n",
       "      <th>F</th>\n",
       "      <th>PR(&gt;F)</th>\n",
       "    </tr>\n",
       "  </thead>\n",
       "  <tbody>\n",
       "    <tr>\n",
       "      <th>Year</th>\n",
       "      <td>1.030912</td>\n",
       "      <td>2.0</td>\n",
       "      <td>0.503532</td>\n",
       "      <td>0.605718</td>\n",
       "    </tr>\n",
       "    <tr>\n",
       "      <th>Residual</th>\n",
       "      <td>117.723325</td>\n",
       "      <td>115.0</td>\n",
       "      <td>NaN</td>\n",
       "      <td>NaN</td>\n",
       "    </tr>\n",
       "  </tbody>\n",
       "</table>\n",
       "</div>"
      ],
      "text/plain": [
       "              sum_sq     df         F    PR(>F)\n",
       "Year        1.030912    2.0  0.503532  0.605718\n",
       "Residual  117.723325  115.0       NaN       NaN"
      ]
     },
     "execution_count": 6,
     "metadata": {},
     "output_type": "execute_result"
    }
   ],
   "source": [
    "#use ols to fit a simple linear regression \n",
    "aov = ols('Freq ~ Year', data=us).fit() \n",
    "\n",
    "#use the fitted model to obtain anova table \n",
    "aov_table = sm.stats.anova_lm(aov,typ=2) \n",
    "aov_table "
   ]
  },
  {
   "cell_type": "markdown",
   "id": "0ce47146",
   "metadata": {},
   "source": [
    "Results show that there is no significant differences between years on the number of risk to water supply in the US (*F* = 0.50, df = 2.0, *p* = 0.61). Therefore, the number of risk to water supply in the US has remained relatively constant from 2017 until 2021."
   ]
  },
  {
   "cell_type": "markdown",
   "id": "1066d39d",
   "metadata": {},
   "source": [
    "## What factors are associated with greater risk to water supply in the US? \n",
    "\n",
    "For this section, we are interested in examining what factors are associated with greater risk to water supply in the US. In light of an article (Heggie, 2020) published on national geographic (https://www.nationalgeographic.com/science/article/partner-content-americas-looming-water-crisis), which suggested that warmer temperatures, decreases in rainfall and rising populations may explain why the US is running out of water, we will test whether these factors are indeed associated with greater threat to water supply in the US.\n",
    "\n",
    "Because the dependent variable is the number of risk to water supply in the US, we will fit a Poisson regression model to analyse the count data. The independent variables are the years (2017, 2018 and 2021) as as categorical variable, the average estimated population, annual precipitation (in inches) and annual temperature (in Fahrenheit).\n",
    "\n",
    "Let's first plot the number of risk to water supply against the independent variables for each year to get a better understanding of the data. "
   ]
  },
  {
   "cell_type": "code",
   "execution_count": 7,
   "id": "841cd0c0",
   "metadata": {},
   "outputs": [
    {
     "data": {
      "image/png": "[encoded data removed]",
      "text/plain": [
       "<Figure size 432x288 with 1 Axes>"
      ]
     },
     "metadata": {
      "needs_background": "light"
     },
     "output_type": "display_data"
    },
    {
     "data": {
      "image/png": "[encoded data removed]",
      "text/plain": [
       "<Figure size 432x288 with 1 Axes>"
      ]
     },
     "metadata": {
      "needs_background": "light"
     },
     "output_type": "display_data"
    },
    {
     "data": {
      "image/png": "[encoded data removed]",
      "text/plain": [
       "<Figure size 432x288 with 1 Axes>"
      ]
     },
     "metadata": {
      "needs_background": "light"
     },
     "output_type": "display_data"
    }
   ],
   "source": [
    "groups = us.groupby(['Year'])\n",
    "\n",
    "# Plot number of risk against average population \n",
    "fig, ax = plt.subplots()\n",
    "for name, group in groups:\n",
    "    ax.plot(group['Freq'], group['Pop'], marker='o', linestyle='', ms=8, label=name)\n",
    "ax.legend()\n",
    "plt.xlabel(\"Number of risk\")\n",
    "plt.ylabel(\"Average population\")\n",
    "\n",
    "plt.show()\n",
    "\n",
    "# Plot number of risk against annual precipitation \n",
    "fig, ax = plt.subplots()\n",
    "for name, group in groups:\n",
    "    ax.plot(group['Freq'], group['Precip'], marker='o', linestyle='', ms=8, label=name)\n",
    "ax.legend()\n",
    "plt.xlabel(\"Number of risk\")\n",
    "plt.ylabel(\"Annual precipitations\")\n",
    "\n",
    "plt.show()\n",
    "\n",
    "# Plot number of risk against annual temperatures\n",
    "fig, ax = plt.subplots()\n",
    "for name, group in groups:\n",
    "    ax.plot(group['Freq'], group['Temp'], marker='o', linestyle='', ms=8, label=name)\n",
    "ax.legend()\n",
    "plt.xlabel(\"Number of risk\")\n",
    "plt.ylabel(\"Annual temperatures\")\n",
    "\n",
    "plt.show()"
   ]
  },
  {
   "cell_type": "markdown",
   "id": "42e36664",
   "metadata": {},
   "source": [
    "From the graphs, it appears that the number of risk to water supply increases as a function of the average population, especially in 2021. The relationship between the number of risk to water supply and annual precipitations and annual temperatures seems rather inconsistent. Let's test this more formally by fitting a Poisson regression model. \n",
    "\n",
    "We're going to now fit the regression with the number of risk as the DV and the average population estimates, annual precipitations, annual temperatures and years as a categorical value as the predictor variables"
   ]
  },
  {
   "cell_type": "code",
   "execution_count": 8,
   "id": "1a30d1bb",
   "metadata": {},
   "outputs": [
    {
     "name": "stdout",
     "output_type": "stream",
     "text": [
      "                 Generalized Linear Model Regression Results                  \n",
      "==============================================================================\n",
      "Dep. Variable:                   Freq   No. Observations:                  118\n",
      "Model:                            GLM   Df Residuals:                      112\n",
      "Model Family:                 Poisson   Df Model:                            5\n",
      "Link Function:                    Log   Scale:                          1.0000\n",
      "Method:                          IRLS   Log-Likelihood:                -142.69\n",
      "Date:                Mon, 15 Aug 2022   Deviance:                       30.809\n",
      "Time:                        21:25:29   Pearson chi2:                     35.3\n",
      "No. Iterations:                     5   Pseudo R-squ. (CS):             0.1786\n",
      "Covariance Type:            nonrobust                                         \n",
      "===================================================================================\n",
      "                      coef    std err          z      P>|z|      [0.025      0.975]\n",
      "-----------------------------------------------------------------------------------\n",
      "Intercept           0.7534      0.701      1.075      0.283      -0.621       2.127\n",
      "C(Year)[T.2018]    -0.0975      0.229     -0.426      0.670      -0.546       0.351\n",
      "C(Year)[T.2021]    -0.1045      0.195     -0.536      0.592      -0.487       0.278\n",
      "Pop              2.728e-08   6.53e-09      4.179      0.000    1.45e-08    4.01e-08\n",
      "Precip             -0.0039      0.008     -0.484      0.629      -0.020       0.012\n",
      "Temp               -0.0128      0.014     -0.925      0.355      -0.040       0.014\n",
      "===================================================================================\n"
     ]
    }
   ],
   "source": [
    "#fit the poisson regression model \n",
    "#C = turns the Year column into a categorical variable with 3 levels \n",
    "formula = 'Freq ~ Pop + Precip + Temp + C(Year)'\n",
    "response, predictors = dmatrices(formula, us, return_type='dataframe')\n",
    "po_results = sm.GLM(response, predictors, family=sm.families.Poisson()).fit()\n",
    "print(po_results.summary()) #print the results "
   ]
  },
  {
   "cell_type": "markdown",
   "id": "d14b0a75",
   "metadata": {},
   "source": [
    "The above results are in log odds, we will turn these into odds for ease of interpretation. "
   ]
  },
  {
   "cell_type": "code",
   "execution_count": 9,
   "id": "da25689f",
   "metadata": {},
   "outputs": [
    {
     "name": "stdout",
     "output_type": "stream",
     "text": [
      "                       5%       95%  Odds Ratio\n",
      "Intercept        0.537547  8.393607    2.124137\n",
      "C(Year)[T.2018]  0.579284  1.420403    0.907093\n",
      "C(Year)[T.2021]  0.614744  1.319958    0.900797\n",
      "Pop              1.000000  1.000000    1.000000\n",
      "Precip           0.980537  1.011947    0.996118\n",
      "Temp             0.960999  1.014379    0.987328\n"
     ]
    }
   ],
   "source": [
    "#turn the results into odds\n",
    "params = po_results.params #get the parameters of the model with the log odds coefficient values \n",
    "conf = po_results.conf_int() #add the log odds 95% CIs to a dataframe \n",
    "conf['Odds Ratio'] = params #build a new column and add the log odds coefficient values \n",
    "conf.columns = ['5%', '95%', 'Odds Ratio'] #rename the columns \n",
    "print(np.exp(conf)) #show the results in odds by exponentiating the log odd values "
   ]
  },
  {
   "cell_type": "markdown",
   "id": "faf44cd1",
   "metadata": {},
   "source": [
    "Results indicate that if the average US population were to increase by one point, the difference in the expected odds number of risk to water supply in the US would be expected to increase significantly by a factor of 1.00 (*p* < 0.001, 95% CI: [1.00, 1.00]), while holding the other variables in the model constant. On the other hand, the annual precipitations, annual temperatures and year have no significant effect on number of reported risks on water supply. \n",
    "\n",
    "## Can we predict the number of risk to water supply? \n",
    "\n",
    "Having concluded that only average population estimates is a significant predictor of risk to water supply, we will fit a new model with taking into account only average population estimates as the predictor variable to test whether we can predict the number of risk to water supply. "
   ]
  },
  {
   "cell_type": "markdown",
   "id": "4a5078b0",
   "metadata": {},
   "source": [
    "### Train vs. Test data \n",
    " \n",
    "We begin by splitting the data into a training set to fit our regression model on, and a test data set will be used to test the performance of our model. The training set will get 60% of the rows, while 40% of the rows will go into the test set."
   ]
  },
  {
   "cell_type": "code",
   "execution_count": 10,
   "id": "3ff2d3a8",
   "metadata": {},
   "outputs": [
    {
     "name": "stdout",
     "output_type": "stream",
     "text": [
      "Training data set has the following number of rows and columns = (70, 6)\n",
      "Testing data set has the following number of rows and columns = (48, 6).\n"
     ]
    }
   ],
   "source": [
    "#Let’s create the training and testing data sets.\n",
    "\n",
    "#splits the data and puts 60% of the data into a training set and the remaining 40 percent into a testing set\n",
    "#random state = randomly selects the rows\n",
    "#keep at 0 to reproduce the same train test split each time you run the code   \n",
    "ustrain, ustest = train_test_split(us,random_state=0,\n",
    "                                   train_size = .60) \n",
    "\n",
    "print('Training data set has the following number of rows and columns = {}'.format(ustrain.shape))\n",
    "print('Testing data set has the following number of rows and columns = {}.'.format(ustest.shape))"
   ]
  },
  {
   "cell_type": "code",
   "execution_count": 11,
   "id": "e42d5778",
   "metadata": {},
   "outputs": [],
   "source": [
    "#create the expression for the model with only the significant predictor \n",
    "expr = \"\"\"Freq ~ Pop\"\"\"\n",
    "\n",
    "#seperate the DV and predictor variables into a y and X matrices for the train and test data using the patsy library \n",
    "y_train, X_train = dmatrices(expr, ustrain, return_type='dataframe')\n",
    "y_test, X_test = dmatrices(expr, ustest, return_type='dataframe')"
   ]
  },
  {
   "cell_type": "markdown",
   "id": "bb2045a9",
   "metadata": {},
   "source": [
    "### Train the model"
   ]
  },
  {
   "cell_type": "code",
   "execution_count": 12,
   "id": "9e5ebd9d",
   "metadata": {},
   "outputs": [
    {
     "name": "stdout",
     "output_type": "stream",
     "text": [
      "                 Generalized Linear Model Regression Results                  \n",
      "==============================================================================\n",
      "Dep. Variable:                   Freq   No. Observations:                   70\n",
      "Model:                            GLM   Df Residuals:                       68\n",
      "Model Family:                 Poisson   Df Model:                            1\n",
      "Link Function:                    Log   Scale:                          1.0000\n",
      "Method:                          IRLS   Log-Likelihood:                -85.466\n",
      "Date:                Mon, 15 Aug 2022   Deviance:                       18.748\n",
      "Time:                        21:25:29   Pearson chi2:                     20.6\n",
      "No. Iterations:                     4   Pseudo R-squ. (CS):             0.1567\n",
      "Covariance Type:            nonrobust                                         \n",
      "==============================================================================\n",
      "                 coef    std err          z      P>|z|      [0.025      0.975]\n",
      "------------------------------------------------------------------------------\n",
      "Intercept     -0.0687      0.161     -0.428      0.669      -0.384       0.246\n",
      "Pop         2.488e-08   6.91e-09      3.600      0.000    1.13e-08    3.84e-08\n",
      "==============================================================================\n"
     ]
    }
   ],
   "source": [
    "#fit the poisson regression model \n",
    "#C = turns the Year column into a categorical variable with 3 levels \n",
    "formula = 'Freq ~ Pop'\n",
    "response, predictors = dmatrices(formula, ustrain, return_type='dataframe')\n",
    "train_results = sm.GLM(response, predictors, family=sm.families.Poisson()).fit()\n",
    "print(train_results.summary()) #print the results "
   ]
  },
  {
   "cell_type": "markdown",
   "id": "a2bb6411",
   "metadata": {},
   "source": [
    "Average population estimate is still a significant predictor (*p* < 0.001) of the number of risk to water supply in the US. "
   ]
  },
  {
   "cell_type": "markdown",
   "id": "a532660f",
   "metadata": {},
   "source": [
    "### Test the performance of our model \n",
    "Let's check how well our model did by looking at some predictions on the test data."
   ]
  },
  {
   "cell_type": "code",
   "execution_count": 13,
   "id": "fb7f9f71",
   "metadata": {},
   "outputs": [
    {
     "data": {
      "text/plain": [
       "86     1.006597\n",
       "85     1.048321\n",
       "94     1.152386\n",
       "8      1.014407\n",
       "89     1.283282\n",
       "22     1.009523\n",
       "7      1.076008\n",
       "10     1.288927\n",
       "45     2.478185\n",
       "68     1.006597\n",
       "33     1.213823\n",
       "110    2.485636\n",
       "2      1.118842\n",
       "51     1.605102\n",
       "117    1.103154\n",
       "73     0.950001\n",
       "30     1.081067\n",
       "43     1.175657\n",
       "84     2.492020\n",
       "75     1.048321\n",
       "dtype: float64"
      ]
     },
     "execution_count": 13,
     "metadata": {},
     "output_type": "execute_result"
    }
   ],
   "source": [
    "#predict on test data \n",
    "poisson_predictions = train_results.predict(X_test)\n",
    "poisson_predictions.head(20) #print the first 20 predictions "
   ]
  },
  {
   "cell_type": "markdown",
   "id": "df6bbd17",
   "metadata": {},
   "source": [
    "We can compare how our model did on the test data and training data against the actual data."
   ]
  },
  {
   "cell_type": "code",
   "execution_count": 14,
   "id": "4c1af5e8",
   "metadata": {},
   "outputs": [
    {
     "data": {
      "image/png": "[encoded data removed]",
      "text/plain": [
       "<Figure size 720x360 with 1 Axes>"
      ]
     },
     "metadata": {
      "needs_background": "light"
     },
     "output_type": "display_data"
    }
   ],
   "source": [
    "#Plots of the predicitive ability of model  \n",
    "\n",
    "#actual vs predicted counts by year \n",
    "fig = plt.figure(figsize=(10,5))\n",
    "fig.suptitle('Number of Risk to Water Supply as a Function of Average Population Estimates in the US', fontsize=16)\n",
    "predicted = plt.plot(ustest['Pop'], train_results.predict(X_test), 'o',linestyle='',ms=8, label='Test')\n",
    "train = plt.plot(ustrain['Pop'], train_results.predict(X_train), 'o', linestyle='', ms=8, alpha = 0.55, label='Train')\n",
    "actual = plt.plot(us['Pop'], list(us['Freq']), 'o', linestyle='', ms=8, alpha = 0.5, label='Actual')\n",
    "\n",
    "plt.legend()\n",
    "plt.xlabel('Average Population Estimates',fontsize=14)\n",
    "plt.ylabel('Counts',fontsize=14)\n",
    "plt.tick_params(labelsize=14)\n",
    "\n",
    "plt.show()"
   ]
  },
  {
   "cell_type": "markdown",
   "id": "c37fa2d6",
   "metadata": {},
   "source": [
    "The model on the training and test sets seems to be more or less tracking the actual counts for smaller number of population estimates, although as we increase the average population estimates it is a lot lower than the actual counts. \n",
    "\n",
    "We can plot the actual vs. predicted counts to further examine this. "
   ]
  },
  {
   "cell_type": "code",
   "execution_count": 15,
   "id": "000f938c",
   "metadata": {
    "scrolled": true
   },
   "outputs": [
    {
     "data": {
      "image/png": "[encoded data removed]",
      "text/plain": [
       "<Figure size 720x360 with 1 Axes>"
      ]
     },
     "metadata": {
      "needs_background": "light"
     },
     "output_type": "display_data"
    }
   ],
   "source": [
    "#actual vs predicted counts \n",
    "fig = plt.figure(figsize=(10,5))\n",
    "fig.suptitle('Scatter Plot of Actual versus Predicted Counts of Risks to Water Supply in the US', fontsize=16)\n",
    "plt.scatter(x=train_results.predict(X_test), y=list(ustest['Freq']), marker='o')\n",
    "\n",
    "plt.xlabel('Predicted counts',fontsize=14)\n",
    "plt.ylabel('Actual counts',fontsize=14)\n",
    "plt.tick_params(labelsize=14)\n",
    "\n",
    "plt.show()"
   ]
  },
  {
   "cell_type": "markdown",
   "id": "31be822f",
   "metadata": {},
   "source": [
    "From the expected vs. actual count graphs, it appears that our model does a great job at predicting counts of 1. However, there is room for improvement; it is unable to predict counts equal or greater than 2. In fact, our model may be suffering from underdispersion (where the variance of the model is much lower that the actual variance). This might be due to the fact that our datasets are filled with smaller counts (lots of 1s)."
   ]
  }
 ],
 "metadata": {
  "hide_input": false,
  "kernelspec": {
   "display_name": "Python 3 (ipykernel)",
   "language": "python",
   "name": "python3"
  },
  "language_info": {
   "codemirror_mode": {
    "name": "ipython",
    "version": 3
   },
   "file_extension": ".py",
   "mimetype": "text/x-python",
   "name": "python",
   "nbconvert_exporter": "python",
   "pygments_lexer": "ipython3",
   "version": "3.9.5"
  },
  "toc": {
   "base_numbering": 1,
   "nav_menu": {},
   "number_sections": true,
   "sideBar": true,
   "skip_h1_title": false,
   "title_cell": "Table of Contents",
   "title_sidebar": "Contents",
   "toc_cell": false,
   "toc_position": {},
   "toc_section_display": true,
   "toc_window_display": false
  },
  "varInspector": {
   "cols": {
    "lenName": 16,
    "lenType": 16,
    "lenVar": 40
   },
   "kernels_config": {
    "python": {
     "delete_cmd_postfix": "",
     "delete_cmd_prefix": "del ",
     "library": "var_list.py",
     "varRefreshCmd": "print(var_dic_list())"
    },
    "r": {
     "delete_cmd_postfix": ") ",
     "delete_cmd_prefix": "rm(",
     "library": "var_list.r",
     "varRefreshCmd": "cat(var_dic_list()) "
    }
   },
   "types_to_exclude": [
    "module",
    "function",
    "builtin_function_or_method",
    "instance",
    "_Feature"
   ],
   "window_display": false
  }
 },
 "nbformat": 4,
 "nbformat_minor": 5
}
