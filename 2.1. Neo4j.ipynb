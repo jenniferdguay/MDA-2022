{
 "cells": [
  {
   "cell_type": "markdown",
   "id": "db5030f1",
   "metadata": {},
   "source": [
    "# Neo4j\n",
    "\n",
    "This is the first part to the data exploration (see 2.2. Data Visualisation for the part 2). In this section we will begin by exploring the data using Neo4j. \n",
    "\n",
    "In this section we will answer one of our research questions: \n",
    "- What is the greatest risk to water supply in the US across the years?\n",
    "\n",
    "We will additionally explore (although this was not part of our research questions):\n",
    "- Which risks to water supply are most similar in terms of the number of states threatened by it?\n",
    "\n",
    "## Load the libraries and connect to Neo4J "
   ]
  },
  {
   "cell_type": "code",
   "execution_count": 2,
   "id": "06902747",
   "metadata": {},
   "outputs": [],
   "source": [
    "#load the libraries\n",
    "import py2neo #library used to work with Neo4j from Python\n",
    "import pandas as pd"
   ]
  },
  {
   "cell_type": "code",
   "execution_count": 4,
   "id": "054ea9fa",
   "metadata": {},
   "outputs": [],
   "source": [
    "#connect to the server \n",
    "graph = py2neo.Graph(\"bolt://localhost:7687\", user=\"neo4j\", password=\"111\")"
   ]
  },
  {
   "cell_type": "code",
   "execution_count": 3,
   "id": "eb1432c7",
   "metadata": {},
   "outputs": [
    {
     "data": {
      "text/html": [
       "<div>\n",
       "<style scoped>\n",
       "    .dataframe tbody tr th:only-of-type {\n",
       "        vertical-align: middle;\n",
       "    }\n",
       "\n",
       "    .dataframe tbody tr th {\n",
       "        vertical-align: top;\n",
       "    }\n",
       "\n",
       "    .dataframe thead th {\n",
       "        text-align: right;\n",
       "    }\n",
       "</style>\n",
       "<table border=\"1\" class=\"dataframe\">\n",
       "  <thead>\n",
       "    <tr style=\"text-align: right;\">\n",
       "      <th></th>\n",
       "      <th>Unnamed: 0</th>\n",
       "      <th>Year</th>\n",
       "      <th>State</th>\n",
       "      <th>Risk</th>\n",
       "      <th>value</th>\n",
       "    </tr>\n",
       "  </thead>\n",
       "  <tbody>\n",
       "    <tr>\n",
       "      <th>0</th>\n",
       "      <td>29</td>\n",
       "      <td>2021</td>\n",
       "      <td>AL</td>\n",
       "      <td>Change in land-use</td>\n",
       "      <td>1</td>\n",
       "    </tr>\n",
       "    <tr>\n",
       "      <th>1</th>\n",
       "      <td>55</td>\n",
       "      <td>2017</td>\n",
       "      <td>CA</td>\n",
       "      <td>Declining water quality</td>\n",
       "      <td>1</td>\n",
       "    </tr>\n",
       "    <tr>\n",
       "      <th>2</th>\n",
       "      <td>56</td>\n",
       "      <td>2017</td>\n",
       "      <td>CO</td>\n",
       "      <td>Declining water quality</td>\n",
       "      <td>2</td>\n",
       "    </tr>\n",
       "    <tr>\n",
       "      <th>3</th>\n",
       "      <td>61</td>\n",
       "      <td>2017</td>\n",
       "      <td>NV</td>\n",
       "      <td>Declining water quality</td>\n",
       "      <td>1</td>\n",
       "    </tr>\n",
       "    <tr>\n",
       "      <th>4</th>\n",
       "      <td>63</td>\n",
       "      <td>2017</td>\n",
       "      <td>OH</td>\n",
       "      <td>Declining water quality</td>\n",
       "      <td>1</td>\n",
       "    </tr>\n",
       "  </tbody>\n",
       "</table>\n",
       "</div>"
      ],
      "text/plain": [
       "   Unnamed: 0  Year State                     Risk  value\n",
       "0          29  2021    AL       Change in land-use      1\n",
       "1          55  2017    CA  Declining water quality      1\n",
       "2          56  2017    CO  Declining water quality      2\n",
       "3          61  2017    NV  Declining water quality      1\n",
       "4          63  2017    OH  Declining water quality      1"
      ]
     },
     "execution_count": 3,
     "metadata": {},
     "output_type": "execute_result"
    }
   ],
   "source": [
    "#load and inspect file we will use \n",
    "neo = pd.read_csv('neo.csv')\n",
    "neo.head(5)"
   ]
  },
  {
   "cell_type": "markdown",
   "id": "ec9e9017",
   "metadata": {},
   "source": [
    "Notice that we have an **Unnamed:0 column**, but there is no need to drop it because we will be calling only the necessary columns from neo4J."
   ]
  },
  {
   "cell_type": "markdown",
   "id": "45e9b001",
   "metadata": {},
   "source": [
    "## Degree Centrality Algorithm\n",
    "\n",
    "In this part we are interested in exploring the greatest risk to water supply in the US overall. We will use the weighted degree centrality algorithm in Neo4j to determine the most important risk to water supply in the US and using the number of counts per state as weights. \n",
    "\n",
    "Let's set up the graph in Neo4j."
   ]
  },
  {
   "cell_type": "code",
   "execution_count": 5,
   "id": "9a7025bb",
   "metadata": {},
   "outputs": [],
   "source": [
    "#load the data in \n",
    "#specify states and risk to be seperate nodes \n",
    "#specify whether a state highlighted a risk as being a problem through the relationship \"threatened_by\"\n",
    "query = \"\"\"\n",
    "load csv with headers from \"file:///neo.csv\" as neo\n",
    "merge (s:State{id:neo.State})\n",
    "merge (r:Risk{id:neo.Risk})\n",
    "merge (s)-[applies_to:threatened_by{score:toInteger(neo.value)}]->(r)\"\"\"\n",
    "\n",
    "nodes = graph.run(query)"
   ]
  },
  {
   "cell_type": "markdown",
   "id": "d227861b",
   "metadata": {},
   "source": [
    "We can now visualise the graph in neo4j by specifying ```match(n) return n``` statement directly in neo4j. \n",
    "\n",
    "The graph has two nodes: the **Risk** and **State** nodes. They are connected by the **threatened_by** relationships. Each relationship starts at a **State** nodes and ends at a **Risk** node. "
   ]
  },
  {
   "cell_type": "markdown",
   "id": "b04cd8fa",
   "metadata": {},
   "source": [
    "With the graph set up in Neo4j, we will now project it into the graph catalog using the ```project``` execution to prepare it for the algorithm. We will use the **Risk** and **State** nodes and the **threatened_by** relationship. The graph is projected in a ```Reverse``` orientation because we are interested in the risks with greatest number of states related to it.   "
   ]
  },
  {
   "cell_type": "code",
   "execution_count": 6,
   "id": "dda4747a",
   "metadata": {},
   "outputs": [],
   "source": [
    "query = \"\"\"\n",
    "CALL gds.graph.project(\n",
    "'myGraph1',\n",
    "['Risk','State'],\n",
    "{\n",
    "threatened_by: {\n",
    "orientation: 'REVERSE', \n",
    "properties: ['score']\n",
    "}\n",
    "}\n",
    ")\n",
    "\"\"\"\n",
    "\n",
    "nodes = graph.run(query)"
   ]
  },
  {
   "cell_type": "markdown",
   "id": "7a089b0e",
   "metadata": {},
   "source": [
    "We use ```stream``` execution to get the weighted frequencies for the top 6 risk."
   ]
  },
  {
   "cell_type": "code",
   "execution_count": 7,
   "id": "7866f74c",
   "metadata": {},
   "outputs": [],
   "source": [
    "query = \"\"\"\n",
    "CALL gds.degree.stream(\n",
    "   'myGraph1',\n",
    "   { relationshipWeightProperty: 'score' }\n",
    ")\n",
    "YIELD nodeId, score\n",
    "RETURN gds.util.asNode(nodeId).id AS Risk, score AS weightedFreq\n",
    "ORDER BY weightedFreq DESC, Risk DESC limit 6\"\"\"\n",
    "\n",
    "nodes = graph.run(query)"
   ]
  },
  {
   "cell_type": "markdown",
   "id": "38f692e8",
   "metadata": {},
   "source": [
    "Let's print the results."
   ]
  },
  {
   "cell_type": "code",
   "execution_count": 8,
   "id": "95328ed0",
   "metadata": {},
   "outputs": [
    {
     "data": {
      "text/html": [
       "<div>\n",
       "<style scoped>\n",
       "    .dataframe tbody tr th:only-of-type {\n",
       "        vertical-align: middle;\n",
       "    }\n",
       "\n",
       "    .dataframe tbody tr th {\n",
       "        vertical-align: top;\n",
       "    }\n",
       "\n",
       "    .dataframe thead th {\n",
       "        text-align: right;\n",
       "    }\n",
       "</style>\n",
       "<table border=\"1\" class=\"dataframe\">\n",
       "  <thead>\n",
       "    <tr style=\"text-align: right;\">\n",
       "      <th></th>\n",
       "      <th>Risk</th>\n",
       "      <th>Weighted Frequency</th>\n",
       "    </tr>\n",
       "  </thead>\n",
       "  <tbody>\n",
       "    <tr>\n",
       "      <th>0</th>\n",
       "      <td>Increased water stress or scarcity</td>\n",
       "      <td>34.0</td>\n",
       "    </tr>\n",
       "    <tr>\n",
       "      <th>1</th>\n",
       "      <td>Inadequate or ageing water supply infrastructure</td>\n",
       "      <td>18.0</td>\n",
       "    </tr>\n",
       "    <tr>\n",
       "      <th>2</th>\n",
       "      <td>Higher water prices</td>\n",
       "      <td>12.0</td>\n",
       "    </tr>\n",
       "    <tr>\n",
       "      <th>3</th>\n",
       "      <td>Declining water quality</td>\n",
       "      <td>12.0</td>\n",
       "    </tr>\n",
       "    <tr>\n",
       "      <th>4</th>\n",
       "      <td>Drought</td>\n",
       "      <td>11.0</td>\n",
       "    </tr>\n",
       "    <tr>\n",
       "      <th>5</th>\n",
       "      <td>Severe weather events</td>\n",
       "      <td>8.0</td>\n",
       "    </tr>\n",
       "  </tbody>\n",
       "</table>\n",
       "</div>"
      ],
      "text/plain": [
       "                                               Risk  Weighted Frequency\n",
       "0                Increased water stress or scarcity                34.0\n",
       "1  Inadequate or ageing water supply infrastructure                18.0\n",
       "2                               Higher water prices                12.0\n",
       "3                           Declining water quality                12.0\n",
       "4                                           Drought                11.0\n",
       "5                             Severe weather events                 8.0"
      ]
     },
     "execution_count": 8,
     "metadata": {},
     "output_type": "execute_result"
    }
   ],
   "source": [
    "#print the top risk to water supply \n",
    "toprisks = pd.DataFrame(nodes)\n",
    "#rename columns to make it clear \n",
    "toprisks.rename({0: 'Risk', 1: 'Weighted Frequency'}, axis=1, inplace=True)\n",
    "toprisks"
   ]
  },
  {
   "cell_type": "markdown",
   "id": "58780d3a",
   "metadata": {},
   "source": [
    "The table above shows that overall increased water stressed or scarcity was rated as the most problematic issue to water supply in the US across 2017 to 2021, followed by inadequate or ageing water supply infrastructure, declining water quality, higher water prices and drought. \n",
    "\n",
    "In the second part of the data visualisation (2.2 Data Visualisation), we will examine the risks with water supply in the US for each of the years 2017, 2018 and 2021 through the use of graphs. "
   ]
  },
  {
   "cell_type": "code",
   "execution_count": 11,
   "id": "9fa025b6",
   "metadata": {},
   "outputs": [],
   "source": [
    "#delete everything for the next part \n",
    "query = \"\"\"\n",
    "match(n) detach delete n\"\"\"\n",
    "\n",
    "nodes= graph.run(query)"
   ]
  },
  {
   "cell_type": "markdown",
   "id": "7b03006d",
   "metadata": {},
   "source": [
    "## Similarity Algorithm \n",
    "\n",
    "We might also be interested in the similarities between risk in terms of the number of states specifying it as a problem (although this is not part of our research question). We can do this with the node similarity algorithm in Neo4j, which compares the **Risk** nodes based on the **States** nodes they are connected to. The more two **Risk** nodes share the same **State** nodes the more similar they are. \n",
    "\n",
    "Note that the algorithm will only compute similarity scores for the **Risk** nodes that have a least 1 relationship to a **State** node. In other words, if there exist no relationship between a **State** node and a **Risk** nodes then that particular **Risk** node will not be compared with other **Risk** nodes.   \n",
    "\n",
    "Let's set up the graph in Neo4j."
   ]
  },
  {
   "cell_type": "code",
   "execution_count": 12,
   "id": "f8cc0f32",
   "metadata": {},
   "outputs": [],
   "source": [
    "#reload the data in \n",
    "#specify states and risk to be seperate nodes \n",
    "#specify whether a state highlighted a risk as being a problem through the relationship \"threatened_by\"\n",
    "query = \"\"\"\n",
    "load csv with headers from \"file:///neo.csv\" as neo\n",
    "merge (s:State{id:neo.State})\n",
    "merge (r:Risk{id:neo.Risk})\n",
    "merge (s)-[applies_to:threatened_by{score:toInteger(neo.value)}]->(r)\"\"\"\n",
    "\n",
    "nodes2 = graph.run(query)"
   ]
  },
  {
   "cell_type": "markdown",
   "id": "d7487997",
   "metadata": {},
   "source": [
    "We can now visualise the graph in neo4j by specifying ```match(n) return n``` statement directly in neo4j. \n",
    "\n",
    "We have a similar graph as before. There are two nodes: the **Risk** and **State** nodes. They are connected by the **threatened_by** relationships. Each relationship starts at a **State** nodes and ends at a **Risk** node.\n",
    "\n",
    "With the graph set up in Neo4j, we will now project it into the graph catalog using the ```project``` execution to prepare it for the algorithm. We will use the **Risk** and **State** nodes and the **threatened_by** relationship. Again we use the ```Reverse``` orientation because we are interested in similarities between the risks. "
   ]
  },
  {
   "cell_type": "code",
   "execution_count": 13,
   "id": "243f224c",
   "metadata": {},
   "outputs": [],
   "source": [
    "query = \"\"\"\n",
    "CALL gds.graph.project(\n",
    "    'myGraph2',\n",
    "    ['Risk', 'State'],\n",
    "    {\n",
    "        threat: {\n",
    "            orientation: 'REVERSE',\n",
    "            type: 'threatened_by'\n",
    "                }\n",
    "            }\n",
    ")\n",
    "\"\"\"\n",
    "nodes2 = graph.run(query)"
   ]
  },
  {
   "cell_type": "markdown",
   "id": "ab9da254",
   "metadata": {},
   "source": [
    "This time the ```stream``` execution returns the similarity scores for each relationship."
   ]
  },
  {
   "cell_type": "code",
   "execution_count": 14,
   "id": "72dff4fa",
   "metadata": {},
   "outputs": [],
   "source": [
    "query = \"\"\"\n",
    "CALL gds.nodeSimilarity.stream('myGraph2')\n",
    "YIELD node1, node2, similarity\n",
    "RETURN gds.util.asNode(node1).id AS Person1, gds.util.asNode(node2).id AS Person2, similarity\n",
    "ORDER BY similarity DESCENDING, Person1, Person2\n",
    "\"\"\"\n",
    "nodes2 = graph.run(query)"
   ]
  },
  {
   "cell_type": "code",
   "execution_count": 15,
   "id": "d3c9bb00",
   "metadata": {},
   "outputs": [
    {
     "data": {
      "text/html": [
       "<div>\n",
       "<style scoped>\n",
       "    .dataframe tbody tr th:only-of-type {\n",
       "        vertical-align: middle;\n",
       "    }\n",
       "\n",
       "    .dataframe tbody tr th {\n",
       "        vertical-align: top;\n",
       "    }\n",
       "\n",
       "    .dataframe thead th {\n",
       "        text-align: right;\n",
       "    }\n",
       "</style>\n",
       "<table border=\"1\" class=\"dataframe\">\n",
       "  <thead>\n",
       "    <tr style=\"text-align: right;\">\n",
       "      <th></th>\n",
       "      <th>Risk 1</th>\n",
       "      <th>Risk 2</th>\n",
       "      <th>Similarity</th>\n",
       "    </tr>\n",
       "  </thead>\n",
       "  <tbody>\n",
       "    <tr>\n",
       "      <th>0</th>\n",
       "      <td>Ecosystem vulnerability</td>\n",
       "      <td>Radium in water</td>\n",
       "      <td>1.000000</td>\n",
       "    </tr>\n",
       "    <tr>\n",
       "      <th>1</th>\n",
       "      <td>Environmental regulations</td>\n",
       "      <td>Regulatory</td>\n",
       "      <td>1.000000</td>\n",
       "    </tr>\n",
       "    <tr>\n",
       "      <th>2</th>\n",
       "      <td>Radium in water</td>\n",
       "      <td>Ecosystem vulnerability</td>\n",
       "      <td>1.000000</td>\n",
       "    </tr>\n",
       "    <tr>\n",
       "      <th>3</th>\n",
       "      <td>Regulatory</td>\n",
       "      <td>Environmental regulations</td>\n",
       "      <td>1.000000</td>\n",
       "    </tr>\n",
       "    <tr>\n",
       "      <th>4</th>\n",
       "      <td>Environmental regulations</td>\n",
       "      <td>Increased water demand</td>\n",
       "      <td>0.666667</td>\n",
       "    </tr>\n",
       "    <tr>\n",
       "      <th>5</th>\n",
       "      <td>Increased water demand</td>\n",
       "      <td>Environmental regulations</td>\n",
       "      <td>0.666667</td>\n",
       "    </tr>\n",
       "    <tr>\n",
       "      <th>6</th>\n",
       "      <td>Increased water demand</td>\n",
       "      <td>Regulatory</td>\n",
       "      <td>0.666667</td>\n",
       "    </tr>\n",
       "    <tr>\n",
       "      <th>7</th>\n",
       "      <td>Regulatory</td>\n",
       "      <td>Increased water demand</td>\n",
       "      <td>0.666667</td>\n",
       "    </tr>\n",
       "    <tr>\n",
       "      <th>8</th>\n",
       "      <td>Drought</td>\n",
       "      <td>Increased water demand</td>\n",
       "      <td>0.600000</td>\n",
       "    </tr>\n",
       "    <tr>\n",
       "      <th>9</th>\n",
       "      <td>Increased water demand</td>\n",
       "      <td>Drought</td>\n",
       "      <td>0.600000</td>\n",
       "    </tr>\n",
       "    <tr>\n",
       "      <th>10</th>\n",
       "      <td>Declining water quality</td>\n",
       "      <td>Inadequate or ageing water supply infrastructure</td>\n",
       "      <td>0.529412</td>\n",
       "    </tr>\n",
       "    <tr>\n",
       "      <th>11</th>\n",
       "      <td>Inadequate or ageing water supply infrastructure</td>\n",
       "      <td>Declining water quality</td>\n",
       "      <td>0.529412</td>\n",
       "    </tr>\n",
       "    <tr>\n",
       "      <th>12</th>\n",
       "      <td>Declining water quality</td>\n",
       "      <td>Severe weather events</td>\n",
       "      <td>0.500000</td>\n",
       "    </tr>\n",
       "    <tr>\n",
       "      <th>13</th>\n",
       "      <td>Ecosystem vulnerability</td>\n",
       "      <td>Increased levels of plastic in freshwater bodies</td>\n",
       "      <td>0.500000</td>\n",
       "    </tr>\n",
       "    <tr>\n",
       "      <th>14</th>\n",
       "      <td>Increased levels of plastic in freshwater bodies</td>\n",
       "      <td>Ecosystem vulnerability</td>\n",
       "      <td>0.500000</td>\n",
       "    </tr>\n",
       "  </tbody>\n",
       "</table>\n",
       "</div>"
      ],
      "text/plain": [
       "                                              Risk 1  \\\n",
       "0                            Ecosystem vulnerability   \n",
       "1                          Environmental regulations   \n",
       "2                                    Radium in water   \n",
       "3                                         Regulatory   \n",
       "4                          Environmental regulations   \n",
       "5                             Increased water demand   \n",
       "6                             Increased water demand   \n",
       "7                                         Regulatory   \n",
       "8                                            Drought   \n",
       "9                             Increased water demand   \n",
       "10                           Declining water quality   \n",
       "11  Inadequate or ageing water supply infrastructure   \n",
       "12                           Declining water quality   \n",
       "13                           Ecosystem vulnerability   \n",
       "14  Increased levels of plastic in freshwater bodies   \n",
       "\n",
       "                                              Risk 2  Similarity  \n",
       "0                                    Radium in water    1.000000  \n",
       "1                                         Regulatory    1.000000  \n",
       "2                            Ecosystem vulnerability    1.000000  \n",
       "3                          Environmental regulations    1.000000  \n",
       "4                             Increased water demand    0.666667  \n",
       "5                          Environmental regulations    0.666667  \n",
       "6                                         Regulatory    0.666667  \n",
       "7                             Increased water demand    0.666667  \n",
       "8                             Increased water demand    0.600000  \n",
       "9                                            Drought    0.600000  \n",
       "10  Inadequate or ageing water supply infrastructure    0.529412  \n",
       "11                           Declining water quality    0.529412  \n",
       "12                             Severe weather events    0.500000  \n",
       "13  Increased levels of plastic in freshwater bodies    0.500000  \n",
       "14                           Ecosystem vulnerability    0.500000  "
      ]
     },
     "execution_count": 15,
     "metadata": {},
     "output_type": "execute_result"
    }
   ],
   "source": [
    "#show the list of risk that are similar with respect to the relationship with the state nodes \n",
    "similarity = pd.DataFrame(nodes2)\n",
    "#rename the columns \n",
    "similarity.rename({0: 'Risk 1', 1: 'Risk 2', 2: 'Similarity'}, axis=1, inplace=True)\n",
    "similarity.head(15)"
   ]
  },
  {
   "cell_type": "markdown",
   "id": "2b52dc96",
   "metadata": {},
   "source": [
    "The table above shows the risks that are similar in terms of the **State** nodes connected to it. We see similarities between:\n",
    "- Ecosystem vulnerability and radium in water, increased levels of plastic in freshwater bodies\n",
    "- Environmental regulation and regulations (in general)\n",
    "- Increased water demand and environmental regulations, regulations (in general) and drought\n",
    "- Declining water quality and inadequate or ageing water supply infrastructure, severe weather events \n",
    "\n",
    "These similarities shows an overlap in some of the risk factors (e.g., regulations in general might include environmental regulations). Additionally, it tells us how one risk may lead another to another, and with this information we might be able to predict which other risk to water supply may be also a problem if another exist already in a given state. "
   ]
  },
  {
   "cell_type": "code",
   "execution_count": 16,
   "id": "5b9a6943",
   "metadata": {},
   "outputs": [],
   "source": [
    "#delete everything \n",
    "query = \"\"\"\n",
    "match(n) detach delete n\"\"\"\n",
    "\n",
    "nodes= graph.run(query)"
   ]
  },
  {
   "cell_type": "markdown",
   "id": "afe61226",
   "metadata": {},
   "source": [
    "This concludes the first bit of the data exploration with Neo4j. In part 2.2, we will further explore the data by means of pie charts and maps. See you there!"
   ]
  }
 ],
 "metadata": {
  "hide_input": false,
  "kernelspec": {
   "display_name": "Python 3 (ipykernel)",
   "language": "python",
   "name": "python3"
  },
  "language_info": {
   "codemirror_mode": {
    "name": "ipython",
    "version": 3
   },
   "file_extension": ".py",
   "mimetype": "text/x-python",
   "name": "python",
   "nbconvert_exporter": "python",
   "pygments_lexer": "ipython3",
   "version": "3.9.5"
  },
  "toc": {
   "base_numbering": 1,
   "nav_menu": {},
   "number_sections": true,
   "sideBar": true,
   "skip_h1_title": false,
   "title_cell": "Table of Contents",
   "title_sidebar": "Contents",
   "toc_cell": false,
   "toc_position": {},
   "toc_section_display": true,
   "toc_window_display": false
  },
  "varInspector": {
   "cols": {
    "lenName": 16,
    "lenType": 16,
    "lenVar": 40
   },
   "kernels_config": {
    "python": {
     "delete_cmd_postfix": "",
     "delete_cmd_prefix": "del ",
     "library": "var_list.py",
     "varRefreshCmd": "print(var_dic_list())"
    },
    "r": {
     "delete_cmd_postfix": ") ",
     "delete_cmd_prefix": "rm(",
     "library": "var_list.r",
     "varRefreshCmd": "cat(var_dic_list()) "
    }
   },
   "types_to_exclude": [
    "module",
    "function",
    "builtin_function_or_method",
    "instance",
    "_Feature"
   ],
   "window_display": false
  }
 },
 "nbformat": 4,
 "nbformat_minor": 5
}
