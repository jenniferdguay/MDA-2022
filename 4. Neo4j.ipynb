{
 "cells": [
  {
   "cell_type": "markdown",
   "id": "db5030f1",
   "metadata": {},
   "source": [
    "# Neo4j"
   ]
  },
  {
   "cell_type": "code",
   "execution_count": 32,
   "id": "06902747",
   "metadata": {},
   "outputs": [],
   "source": [
    "import py2neo\n",
    "import pandas as pd"
   ]
  },
  {
   "cell_type": "code",
   "execution_count": 3,
   "id": "054ea9fa",
   "metadata": {},
   "outputs": [],
   "source": [
    "graph = py2neo.Graph(\"bolt://localhost:7687\", user=\"neo4j\", password=\"111\")"
   ]
  },
  {
   "cell_type": "code",
   "execution_count": 33,
   "id": "eb1432c7",
   "metadata": {},
   "outputs": [
    {
     "data": {
      "text/plain": [
       "Index(['Unnamed: 0.1', 'Unnamed: 0', 'Year', 'State', 'Risk', 'value',\n",
       "       'State_name', 'Pop17', 'Pop18', 'Pop21', 'Precip17', 'Precip18',\n",
       "       'Precip21', 'Temp17', 'Temp18', 'Temp21'],\n",
       "      dtype='object')"
      ]
     },
     "execution_count": 33,
     "metadata": {},
     "output_type": "execute_result"
    }
   ],
   "source": [
    "merged_df = pd.read_csv('merged_df.csv')\n",
    "merged_df.columns"
   ]
  },
  {
   "cell_type": "code",
   "execution_count": 34,
   "id": "8adf9ce0",
   "metadata": {},
   "outputs": [],
   "source": [
    "merged_df['Precip21'] = merged_df['Precip21'].fillna((merged_df['Precip21'].median()))\n",
    "merged_df['Temp21'] = merged_df['Temp21'].fillna((merged_df['Temp21'].median()))\n",
    "merged_df\n",
    "merged_df.to_csv('merged_df.csv')"
   ]
  },
  {
   "cell_type": "code",
   "execution_count": 5,
   "id": "9ecde9e7",
   "metadata": {},
   "outputs": [],
   "source": [
    "query = \"\"\"\n",
    "load csv with headers from \"file:///merged_df.csv\" as neo\n",
    "with neo\n",
    "where neo.Year=\"2021\"\n",
    "merge (s:State{id:neo.State})\n",
    "merge (r:Risk{id:neo.Risk})\n",
    "merge (s)-[applies_to:year_2021{score:toInteger(neo.value)}]->(r)\"\"\"\n",
    "\n",
    "nodes= graph.run(query)"
   ]
  },
  {
   "cell_type": "code",
   "execution_count": 11,
   "id": "dda4747a",
   "metadata": {},
   "outputs": [],
   "source": [
    "query = \"\"\"\n",
    "match(n) detach delete n\"\"\"\n",
    "\n",
    "nodes= graph.run(query)"
   ]
  },
  {
   "cell_type": "code",
   "execution_count": 35,
   "id": "6e2c711b",
   "metadata": {},
   "outputs": [],
   "source": [
    "query = \"\"\"\n",
    "load csv with headers from \"file:///merged_df.csv\" as neo\n",
    "with neo\n",
    "where neo.Year=\"2021\"\n",
    "merge (s:State{id:neo.State,pop:neo.Pop21,precip:neo.Precip21,tavg:neo.Temp21})\n",
    "merge (r:Risk{id:neo.Risk})\n",
    "merge (s)-[applies_to:year_2021{score:toInteger(neo.value)}]->(r)\"\"\"\n",
    "nodes= graph.run(query)"
   ]
  }
 ],
 "metadata": {
  "hide_input": false,
  "kernelspec": {
   "display_name": "Python 3 (ipykernel)",
   "language": "python",
   "name": "python3"
  },
  "language_info": {
   "codemirror_mode": {
    "name": "ipython",
    "version": 3
   },
   "file_extension": ".py",
   "mimetype": "text/x-python",
   "name": "python",
   "nbconvert_exporter": "python",
   "pygments_lexer": "ipython3",
   "version": "3.9.5"
  },
  "toc": {
   "base_numbering": 1,
   "nav_menu": {},
   "number_sections": true,
   "sideBar": true,
   "skip_h1_title": false,
   "title_cell": "Table of Contents",
   "title_sidebar": "Contents",
   "toc_cell": false,
   "toc_position": {},
   "toc_section_display": true,
   "toc_window_display": false
  },
  "varInspector": {
   "cols": {
    "lenName": 16,
    "lenType": 16,
    "lenVar": 40
   },
   "kernels_config": {
    "python": {
     "delete_cmd_postfix": "",
     "delete_cmd_prefix": "del ",
     "library": "var_list.py",
     "varRefreshCmd": "print(var_dic_list())"
    },
    "r": {
     "delete_cmd_postfix": ") ",
     "delete_cmd_prefix": "rm(",
     "library": "var_list.r",
     "varRefreshCmd": "cat(var_dic_list()) "
    }
   },
   "types_to_exclude": [
    "module",
    "function",
    "builtin_function_or_method",
    "instance",
    "_Feature"
   ],
   "window_display": false
  }
 },
 "nbformat": 4,
 "nbformat_minor": 5
}
